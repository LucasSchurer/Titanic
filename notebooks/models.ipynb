{
 "cells": [
  {
   "cell_type": "code",
   "execution_count": 5,
   "metadata": {},
   "outputs": [],
   "source": [
    "import matplotlib.pyplot as plt\n",
    "import pandas as pd\n",
    "from joblib import load"
   ]
  },
  {
   "cell_type": "code",
   "execution_count": 6,
   "metadata": {},
   "outputs": [],
   "source": [
    "search_results = load('../models/random_forest/search_results/grid search - 20230924173836.joblib')"
   ]
  },
  {
   "cell_type": "code",
   "execution_count": 11,
   "metadata": {},
   "outputs": [],
   "source": [
    "def display_search_results_overview(search_results, thresholds = None, order_by='mean_test_score', ascending=True) :\n",
    "    \n",
    "    display('Best estimator: {}'.format(search_results.best_params_))\n",
    "    display('Best score: {}'.format(search_results.best_score_))\n",
    "\n",
    "    if thresholds != None :\n",
    "        df = pd.DataFrame(search_results.cv_results_)             \n",
    "    \n",
    "        for key in thresholds :\n",
    "            if len(thresholds[key]) == 1 :\n",
    "                df = df.loc[df[key] >= thresholds[key][0]]\n",
    "            else :    \n",
    "                df = df.loc[df[key] <= thresholds[key][0] if thresholds[key][1] == 'max' else df[key] >= thresholds[key][0]]\n",
    "            \n",
    "        df = df.sort_values(order_by, ascending=ascending)\n",
    "        \n",
    "        param_columns = []\n",
    "        \n",
    "        for column in df.columns :\n",
    "            if 'param' in column :\n",
    "                param_columns.append(column)\n",
    "        \n",
    "        score_columns = ['mean_test_score', 'std_test_score']\n",
    "        \n",
    "        df = df[score_columns + param_columns]\n",
    "        \n",
    "        display(df)"
   ]
  },
  {
   "cell_type": "code",
   "execution_count": 12,
   "metadata": {},
   "outputs": [
    {
     "data": {
      "text/plain": [
       "\"Best estimator: {'bootstrap': True, 'max_depth': None, 'max_features': 'log2', 'min_samples_leaf': 2, 'min_samples_split': 2, 'n_estimators': 200}\""
      ]
     },
     "metadata": {},
     "output_type": "display_data"
    },
    {
     "data": {
      "text/plain": [
       "'Best score: 0.8350574351892537'"
      ]
     },
     "metadata": {},
     "output_type": "display_data"
    },
    {
     "data": {
      "text/html": [
       "<div>\n",
       "<style scoped>\n",
       "    .dataframe tbody tr th:only-of-type {\n",
       "        vertical-align: middle;\n",
       "    }\n",
       "\n",
       "    .dataframe tbody tr th {\n",
       "        vertical-align: top;\n",
       "    }\n",
       "\n",
       "    .dataframe thead th {\n",
       "        text-align: right;\n",
       "    }\n",
       "</style>\n",
       "<table border=\"1\" class=\"dataframe\">\n",
       "  <thead>\n",
       "    <tr style=\"text-align: right;\">\n",
       "      <th></th>\n",
       "      <th>mean_test_score</th>\n",
       "      <th>std_test_score</th>\n",
       "      <th>param_bootstrap</th>\n",
       "      <th>param_max_depth</th>\n",
       "      <th>param_max_features</th>\n",
       "      <th>param_min_samples_leaf</th>\n",
       "      <th>param_min_samples_split</th>\n",
       "      <th>param_n_estimators</th>\n",
       "      <th>params</th>\n",
       "    </tr>\n",
       "  </thead>\n",
       "  <tbody>\n",
       "    <tr>\n",
       "      <th>85</th>\n",
       "      <td>0.835057</td>\n",
       "      <td>0.034866</td>\n",
       "      <td>True</td>\n",
       "      <td>None</td>\n",
       "      <td>log2</td>\n",
       "      <td>2</td>\n",
       "      <td>2</td>\n",
       "      <td>200</td>\n",
       "      <td>{'bootstrap': True, 'max_depth': None, 'max_fe...</td>\n",
       "    </tr>\n",
       "    <tr>\n",
       "      <th>73</th>\n",
       "      <td>0.831687</td>\n",
       "      <td>0.032333</td>\n",
       "      <td>True</td>\n",
       "      <td>None</td>\n",
       "      <td>sqrt</td>\n",
       "      <td>2</td>\n",
       "      <td>2</td>\n",
       "      <td>200</td>\n",
       "      <td>{'bootstrap': True, 'max_depth': None, 'max_fe...</td>\n",
       "    </tr>\n",
       "    <tr>\n",
       "      <th>74</th>\n",
       "      <td>0.831680</td>\n",
       "      <td>0.038109</td>\n",
       "      <td>True</td>\n",
       "      <td>None</td>\n",
       "      <td>sqrt</td>\n",
       "      <td>2</td>\n",
       "      <td>4</td>\n",
       "      <td>100</td>\n",
       "      <td>{'bootstrap': True, 'max_depth': None, 'max_fe...</td>\n",
       "    </tr>\n",
       "    <tr>\n",
       "      <th>75</th>\n",
       "      <td>0.831674</td>\n",
       "      <td>0.025188</td>\n",
       "      <td>True</td>\n",
       "      <td>None</td>\n",
       "      <td>sqrt</td>\n",
       "      <td>2</td>\n",
       "      <td>4</td>\n",
       "      <td>200</td>\n",
       "      <td>{'bootstrap': True, 'max_depth': None, 'max_fe...</td>\n",
       "    </tr>\n",
       "    <tr>\n",
       "      <th>91</th>\n",
       "      <td>0.831668</td>\n",
       "      <td>0.029613</td>\n",
       "      <td>True</td>\n",
       "      <td>None</td>\n",
       "      <td>log2</td>\n",
       "      <td>4</td>\n",
       "      <td>4</td>\n",
       "      <td>200</td>\n",
       "      <td>{'bootstrap': True, 'max_depth': None, 'max_fe...</td>\n",
       "    </tr>\n",
       "  </tbody>\n",
       "</table>\n",
       "</div>"
      ],
      "text/plain": [
       "    mean_test_score  std_test_score param_bootstrap param_max_depth  \\\n",
       "85         0.835057        0.034866            True            None   \n",
       "73         0.831687        0.032333            True            None   \n",
       "74         0.831680        0.038109            True            None   \n",
       "75         0.831674        0.025188            True            None   \n",
       "91         0.831668        0.029613            True            None   \n",
       "\n",
       "   param_max_features param_min_samples_leaf param_min_samples_split  \\\n",
       "85               log2                      2                       2   \n",
       "73               sqrt                      2                       2   \n",
       "74               sqrt                      2                       4   \n",
       "75               sqrt                      2                       4   \n",
       "91               log2                      4                       4   \n",
       "\n",
       "   param_n_estimators                                             params  \n",
       "85                200  {'bootstrap': True, 'max_depth': None, 'max_fe...  \n",
       "73                200  {'bootstrap': True, 'max_depth': None, 'max_fe...  \n",
       "74                100  {'bootstrap': True, 'max_depth': None, 'max_fe...  \n",
       "75                200  {'bootstrap': True, 'max_depth': None, 'max_fe...  \n",
       "91                200  {'bootstrap': True, 'max_depth': None, 'max_fe...  "
      ]
     },
     "metadata": {},
     "output_type": "display_data"
    }
   ],
   "source": [
    "scores = {\n",
    "    'mean_test_score': [0.83],  \n",
    "}\n",
    "\n",
    "display_search_results_overview(search_results, scores, order_by='mean_test_score', ascending=False)"
   ]
  }
 ],
 "metadata": {
  "kernelspec": {
   "display_name": "tf",
   "language": "python",
   "name": "python3"
  },
  "language_info": {
   "codemirror_mode": {
    "name": "ipython",
    "version": 3
   },
   "file_extension": ".py",
   "mimetype": "text/x-python",
   "name": "python",
   "nbconvert_exporter": "python",
   "pygments_lexer": "ipython3",
   "version": "3.9.17"
  },
  "orig_nbformat": 4
 },
 "nbformat": 4,
 "nbformat_minor": 2
}
