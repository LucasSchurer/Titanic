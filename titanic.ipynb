{
 "cells": [
  {
   "cell_type": "code",
   "execution_count": 801,
   "metadata": {},
   "outputs": [],
   "source": [
    "import pandas as pd\n",
    "import numpy as np\n",
    "from pandas.plotting import scatter_matrix\n",
    "from math import ceil\n",
    "import matplotlib.pyplot as plt\n",
    "from matplotlib import ticker\n",
    "import sklearn\n",
    "from sklearn.model_selection import cross_val_score, GridSearchCV, RandomizedSearchCV\n",
    "from sklearn.pipeline import Pipeline\n",
    "from sklearn.preprocessing import OneHotEncoder, MinMaxScaler, StandardScaler\n",
    "from sklearn.compose import ColumnTransformer\n",
    "from sklearn.impute import SimpleImputer\n",
    "from sklearn.neighbors import KNeighborsClassifier\n",
    "from sklearn.ensemble import RandomForestClassifier\n",
    "from sklearn.tree import DecisionTreeClassifier\n",
    "from sklearn.svm import LinearSVC\n",
    "from sklearn.metrics import accuracy_score\n",
    "import tensorflow as tf"
   ]
  },
  {
   "cell_type": "markdown",
   "metadata": {},
   "source": [
    "# Data"
   ]
  },
  {
   "cell_type": "markdown",
   "metadata": {},
   "source": [
    "## Load and preprocess data"
   ]
  },
  {
   "cell_type": "code",
   "execution_count": 802,
   "metadata": {},
   "outputs": [],
   "source": [
    "DATA_PATH = './data/'"
   ]
  },
  {
   "cell_type": "code",
   "execution_count": 803,
   "metadata": {},
   "outputs": [],
   "source": [
    "# Load and preprocess data\n",
    "\n",
    "numerical_features = ['age', 'sibsp', 'parch', 'fare']\n",
    "categorical_features = ['pclass', 'sex', 'embarked']\n",
    "\n",
    "def read_csv(type = 'train') :\n",
    "    dataset = pd.read_csv('{}/{}.csv'.format(DATA_PATH, type))\n",
    "    dataset.columns = dataset.columns.str.lower()\n",
    "    \n",
    "    return dataset\n",
    "\n",
    "def get_training_features_labels() :\n",
    "    training_data = read_csv('train')\n",
    "    \n",
    "    X_train = training_data.drop(columns=['survived'])\n",
    "    X_train = X_train[numerical_features + categorical_features]\n",
    "    \n",
    "    y_train = training_data['survived']\n",
    "    \n",
    "    return X_train, y_train\n",
    "\n",
    "def get_preprocessor(scaler = 'standard') :\n",
    "    numerical_transformer = Pipeline(\n",
    "    steps=[\n",
    "        ('imputer', SimpleImputer(strategy='median')),\n",
    "        ]\n",
    "    )\n",
    "    \n",
    "    if scaler == 'standard' :\n",
    "        numerical_transformer.steps.append(['scaler', StandardScaler()])\n",
    "    if scaler == 'minmax' :\n",
    "        numerical_transformer.steps.append(['scaler', MinMaxScaler()])\n",
    "\n",
    "    categorical_transformer = Pipeline(\n",
    "        steps=[\n",
    "            ('imputer', SimpleImputer(strategy='most_frequent')),\n",
    "            ('encoder', OneHotEncoder(handle_unknown='ignore'))\n",
    "            ]\n",
    "        )\n",
    "\n",
    "    preprocessor = ColumnTransformer([\n",
    "        ('numerical_transformer', numerical_transformer, numerical_features),\n",
    "        ('categorical_transformer', categorical_transformer, categorical_features)\n",
    "    ])\n",
    "    \n",
    "    return preprocessor\n",
    "\n",
    "X_train, y_train = get_training_features_labels()\n",
    "preprocessor = get_preprocessor(scaler='standard')\n",
    "\n",
    "X_train = preprocessor.fit_transform(X_train)\n",
    "\n",
    "X_test = read_csv('test')\n",
    "X_test = preprocessor.transform(X_test)"
   ]
  },
  {
   "cell_type": "markdown",
   "metadata": {},
   "source": [
    "## Visualize data"
   ]
  },
  {
   "cell_type": "code",
   "execution_count": 804,
   "metadata": {},
   "outputs": [],
   "source": [
    "# Load preprocessed dataframe from X_train, y_train and a raw dataframe without changes\n",
    "\n",
    "X_df = pd.DataFrame(X_train, columns=[x[(x.find('_', x.find('_') + 1)) + 2:] for x in preprocessor.get_feature_names_out()])\n",
    "y_df = pd.DataFrame(y_train, columns=['survived'])\n",
    "\n",
    "df_preprocessed = pd.DataFrame.join(X_df, y_df)\n",
    "df_raw = read_csv('train')"
   ]
  },
  {
   "cell_type": "code",
   "execution_count": 805,
   "metadata": {},
   "outputs": [
    {
     "data": {
      "text/html": [
       "<div>\n",
       "<style scoped>\n",
       "    .dataframe tbody tr th:only-of-type {\n",
       "        vertical-align: middle;\n",
       "    }\n",
       "\n",
       "    .dataframe tbody tr th {\n",
       "        vertical-align: top;\n",
       "    }\n",
       "\n",
       "    .dataframe thead th {\n",
       "        text-align: right;\n",
       "    }\n",
       "</style>\n",
       "<table border=\"1\" class=\"dataframe\">\n",
       "  <thead>\n",
       "    <tr style=\"text-align: right;\">\n",
       "      <th></th>\n",
       "      <th>passengerid</th>\n",
       "      <th>survived</th>\n",
       "      <th>pclass</th>\n",
       "      <th>name</th>\n",
       "      <th>sex</th>\n",
       "      <th>age</th>\n",
       "      <th>sibsp</th>\n",
       "      <th>parch</th>\n",
       "      <th>ticket</th>\n",
       "      <th>fare</th>\n",
       "      <th>cabin</th>\n",
       "      <th>embarked</th>\n",
       "    </tr>\n",
       "  </thead>\n",
       "  <tbody>\n",
       "    <tr>\n",
       "      <th>0</th>\n",
       "      <td>1</td>\n",
       "      <td>0</td>\n",
       "      <td>3</td>\n",
       "      <td>Braund, Mr. Owen Harris</td>\n",
       "      <td>male</td>\n",
       "      <td>22.0</td>\n",
       "      <td>1</td>\n",
       "      <td>0</td>\n",
       "      <td>A/5 21171</td>\n",
       "      <td>7.2500</td>\n",
       "      <td>NaN</td>\n",
       "      <td>S</td>\n",
       "    </tr>\n",
       "    <tr>\n",
       "      <th>1</th>\n",
       "      <td>2</td>\n",
       "      <td>1</td>\n",
       "      <td>1</td>\n",
       "      <td>Cumings, Mrs. John Bradley (Florence Briggs Th...</td>\n",
       "      <td>female</td>\n",
       "      <td>38.0</td>\n",
       "      <td>1</td>\n",
       "      <td>0</td>\n",
       "      <td>PC 17599</td>\n",
       "      <td>71.2833</td>\n",
       "      <td>C85</td>\n",
       "      <td>C</td>\n",
       "    </tr>\n",
       "    <tr>\n",
       "      <th>2</th>\n",
       "      <td>3</td>\n",
       "      <td>1</td>\n",
       "      <td>3</td>\n",
       "      <td>Heikkinen, Miss. Laina</td>\n",
       "      <td>female</td>\n",
       "      <td>26.0</td>\n",
       "      <td>0</td>\n",
       "      <td>0</td>\n",
       "      <td>STON/O2. 3101282</td>\n",
       "      <td>7.9250</td>\n",
       "      <td>NaN</td>\n",
       "      <td>S</td>\n",
       "    </tr>\n",
       "    <tr>\n",
       "      <th>3</th>\n",
       "      <td>4</td>\n",
       "      <td>1</td>\n",
       "      <td>1</td>\n",
       "      <td>Futrelle, Mrs. Jacques Heath (Lily May Peel)</td>\n",
       "      <td>female</td>\n",
       "      <td>35.0</td>\n",
       "      <td>1</td>\n",
       "      <td>0</td>\n",
       "      <td>113803</td>\n",
       "      <td>53.1000</td>\n",
       "      <td>C123</td>\n",
       "      <td>S</td>\n",
       "    </tr>\n",
       "    <tr>\n",
       "      <th>4</th>\n",
       "      <td>5</td>\n",
       "      <td>0</td>\n",
       "      <td>3</td>\n",
       "      <td>Allen, Mr. William Henry</td>\n",
       "      <td>male</td>\n",
       "      <td>35.0</td>\n",
       "      <td>0</td>\n",
       "      <td>0</td>\n",
       "      <td>373450</td>\n",
       "      <td>8.0500</td>\n",
       "      <td>NaN</td>\n",
       "      <td>S</td>\n",
       "    </tr>\n",
       "  </tbody>\n",
       "</table>\n",
       "</div>"
      ],
      "text/plain": [
       "   passengerid  survived  pclass  \\\n",
       "0            1         0       3   \n",
       "1            2         1       1   \n",
       "2            3         1       3   \n",
       "3            4         1       1   \n",
       "4            5         0       3   \n",
       "\n",
       "                                                name     sex   age  sibsp  \\\n",
       "0                            Braund, Mr. Owen Harris    male  22.0      1   \n",
       "1  Cumings, Mrs. John Bradley (Florence Briggs Th...  female  38.0      1   \n",
       "2                             Heikkinen, Miss. Laina  female  26.0      0   \n",
       "3       Futrelle, Mrs. Jacques Heath (Lily May Peel)  female  35.0      1   \n",
       "4                           Allen, Mr. William Henry    male  35.0      0   \n",
       "\n",
       "   parch            ticket     fare cabin embarked  \n",
       "0      0         A/5 21171   7.2500   NaN        S  \n",
       "1      0          PC 17599  71.2833   C85        C  \n",
       "2      0  STON/O2. 3101282   7.9250   NaN        S  \n",
       "3      0            113803  53.1000  C123        S  \n",
       "4      0            373450   8.0500   NaN        S  "
      ]
     },
     "metadata": {},
     "output_type": "display_data"
    },
    {
     "data": {
      "text/html": [
       "<div>\n",
       "<style scoped>\n",
       "    .dataframe tbody tr th:only-of-type {\n",
       "        vertical-align: middle;\n",
       "    }\n",
       "\n",
       "    .dataframe tbody tr th {\n",
       "        vertical-align: top;\n",
       "    }\n",
       "\n",
       "    .dataframe thead th {\n",
       "        text-align: right;\n",
       "    }\n",
       "</style>\n",
       "<table border=\"1\" class=\"dataframe\">\n",
       "  <thead>\n",
       "    <tr style=\"text-align: right;\">\n",
       "      <th></th>\n",
       "      <th>passengerid</th>\n",
       "      <th>survived</th>\n",
       "      <th>pclass</th>\n",
       "      <th>age</th>\n",
       "      <th>sibsp</th>\n",
       "      <th>parch</th>\n",
       "      <th>fare</th>\n",
       "    </tr>\n",
       "  </thead>\n",
       "  <tbody>\n",
       "    <tr>\n",
       "      <th>count</th>\n",
       "      <td>891.000000</td>\n",
       "      <td>891.000000</td>\n",
       "      <td>891.000000</td>\n",
       "      <td>714.000000</td>\n",
       "      <td>891.000000</td>\n",
       "      <td>891.000000</td>\n",
       "      <td>891.000000</td>\n",
       "    </tr>\n",
       "    <tr>\n",
       "      <th>mean</th>\n",
       "      <td>446.000000</td>\n",
       "      <td>0.383838</td>\n",
       "      <td>2.308642</td>\n",
       "      <td>29.699118</td>\n",
       "      <td>0.523008</td>\n",
       "      <td>0.381594</td>\n",
       "      <td>32.204208</td>\n",
       "    </tr>\n",
       "    <tr>\n",
       "      <th>std</th>\n",
       "      <td>257.353842</td>\n",
       "      <td>0.486592</td>\n",
       "      <td>0.836071</td>\n",
       "      <td>14.526497</td>\n",
       "      <td>1.102743</td>\n",
       "      <td>0.806057</td>\n",
       "      <td>49.693429</td>\n",
       "    </tr>\n",
       "    <tr>\n",
       "      <th>min</th>\n",
       "      <td>1.000000</td>\n",
       "      <td>0.000000</td>\n",
       "      <td>1.000000</td>\n",
       "      <td>0.420000</td>\n",
       "      <td>0.000000</td>\n",
       "      <td>0.000000</td>\n",
       "      <td>0.000000</td>\n",
       "    </tr>\n",
       "    <tr>\n",
       "      <th>25%</th>\n",
       "      <td>223.500000</td>\n",
       "      <td>0.000000</td>\n",
       "      <td>2.000000</td>\n",
       "      <td>20.125000</td>\n",
       "      <td>0.000000</td>\n",
       "      <td>0.000000</td>\n",
       "      <td>7.910400</td>\n",
       "    </tr>\n",
       "    <tr>\n",
       "      <th>50%</th>\n",
       "      <td>446.000000</td>\n",
       "      <td>0.000000</td>\n",
       "      <td>3.000000</td>\n",
       "      <td>28.000000</td>\n",
       "      <td>0.000000</td>\n",
       "      <td>0.000000</td>\n",
       "      <td>14.454200</td>\n",
       "    </tr>\n",
       "    <tr>\n",
       "      <th>75%</th>\n",
       "      <td>668.500000</td>\n",
       "      <td>1.000000</td>\n",
       "      <td>3.000000</td>\n",
       "      <td>38.000000</td>\n",
       "      <td>1.000000</td>\n",
       "      <td>0.000000</td>\n",
       "      <td>31.000000</td>\n",
       "    </tr>\n",
       "    <tr>\n",
       "      <th>max</th>\n",
       "      <td>891.000000</td>\n",
       "      <td>1.000000</td>\n",
       "      <td>3.000000</td>\n",
       "      <td>80.000000</td>\n",
       "      <td>8.000000</td>\n",
       "      <td>6.000000</td>\n",
       "      <td>512.329200</td>\n",
       "    </tr>\n",
       "  </tbody>\n",
       "</table>\n",
       "</div>"
      ],
      "text/plain": [
       "       passengerid    survived      pclass         age       sibsp  \\\n",
       "count   891.000000  891.000000  891.000000  714.000000  891.000000   \n",
       "mean    446.000000    0.383838    2.308642   29.699118    0.523008   \n",
       "std     257.353842    0.486592    0.836071   14.526497    1.102743   \n",
       "min       1.000000    0.000000    1.000000    0.420000    0.000000   \n",
       "25%     223.500000    0.000000    2.000000   20.125000    0.000000   \n",
       "50%     446.000000    0.000000    3.000000   28.000000    0.000000   \n",
       "75%     668.500000    1.000000    3.000000   38.000000    1.000000   \n",
       "max     891.000000    1.000000    3.000000   80.000000    8.000000   \n",
       "\n",
       "            parch        fare  \n",
       "count  891.000000  891.000000  \n",
       "mean     0.381594   32.204208  \n",
       "std      0.806057   49.693429  \n",
       "min      0.000000    0.000000  \n",
       "25%      0.000000    7.910400  \n",
       "50%      0.000000   14.454200  \n",
       "75%      0.000000   31.000000  \n",
       "max      6.000000  512.329200  "
      ]
     },
     "metadata": {},
     "output_type": "display_data"
    },
    {
     "name": "stdout",
     "output_type": "stream",
     "text": [
      "embarked\n",
      "S    644\n",
      "C    168\n",
      "Q     77\n",
      "Name: count, dtype: int64\n",
      "\n",
      "sex\n",
      "male      577\n",
      "female    314\n",
      "Name: count, dtype: int64\n",
      "\n",
      "Amount of null values in age column: 177 (0.199%)\n",
      "Amount of null values in cabin column: 687 (0.771%)\n",
      "Amount of null values in embarked column: 2 (0.002%)\n"
     ]
    }
   ],
   "source": [
    "# Visualize raw data\n",
    "\n",
    "display(df_raw.head())\n",
    "display(df_raw.describe())\n",
    "\n",
    "print('{}\\n'.format(train_data_raw['embarked'].value_counts()))\n",
    "print('{}\\n'.format(train_data_raw['sex'].value_counts()))\n",
    "\n",
    "for column in train_data_raw :\n",
    "    null_count = train_data_raw[column].isna().sum()\n",
    "    \n",
    "    if null_count > 0 :\n",
    "        print(\"Amount of null values in {} column: {} ({:.3f}%)\".format(column, null_count, null_count/len(train_data_raw)))"
   ]
  },
  {
   "cell_type": "code",
   "execution_count": 806,
   "metadata": {},
   "outputs": [
    {
     "name": "stdout",
     "output_type": "stream",
     "text": [
      "Preprocessed DF Correlation Matrix\n",
      "survived      1.000000\n",
      "sex_female    0.543351\n",
      "pclass_1      0.285904\n",
      "fare          0.257307\n",
      "embarked_C    0.168240\n",
      "pclass_2      0.093349\n",
      "parch         0.081629\n",
      "embarked_Q    0.003650\n",
      "sibsp        -0.035322\n",
      "age          -0.064910\n",
      "embarked_S   -0.149683\n",
      "pclass_3     -0.322308\n",
      "sex_male     -0.543351\n",
      "Name: survived, dtype: float64\n"
     ]
    }
   ],
   "source": [
    "# Visualize correlation matrix\n",
    "\n",
    "df_preprocessed_corr_matrix = df_preprocessed.corr()['survived'].sort_values(ascending=False)\n",
    "\n",
    "print('Preprocessed DF Correlation Matrix\\n{}'.format(df_preprocessed_corr_matrix))"
   ]
  },
  {
   "cell_type": "code",
   "execution_count": 807,
   "metadata": {},
   "outputs": [],
   "source": [
    "def plot_stacked_bar(x, y1, y2, y1label = 'y1', y2label = 'y2', title = '', xlabel = '', ylabel = '', \n",
    "                     using_percentage = True, major_locator_range = -1, \n",
    "                     yaxis_visibility = False, xaxis_visibility = True,\n",
    "                     xticks = [], yticks = [], figsize=(10, 8)) :\n",
    "    fig, ax = plt.subplots(figsize=figsize)\n",
    "    \n",
    "    ax.bar(x, y1, color='cornflowerblue', edgecolor='dimgray', label=y1label, width=5)\n",
    "    ax.bar(x, y2, bottom=y1, color='indianred', edgecolor='dimgray', label=y2label, width = 5)\n",
    "\n",
    "    for c in ax.containers :\n",
    "        if using_percentage :\n",
    "            ax.bar_label(c, label_type='center', fmt='%.3f%%')\n",
    "        else :\n",
    "            ax.bar_label(c, label_type='center')\n",
    "    \n",
    "    if major_locator_range > 0 :\n",
    "        ax.xaxis.set_major_locator(ticker.MultipleLocator(major_locator_range))\n",
    "    \n",
    "    ax.get_yaxis().set_visible(yaxis_visibility)\n",
    "    ax.get_xaxis().set_visible(xaxis_visibility)\n",
    "    \n",
    "    if title != '' :\n",
    "        ax.set_title(title)\n",
    "        \n",
    "    if xlabel != '' :\n",
    "        ax.set_xlabel(xlabel)\n",
    "        \n",
    "    if ylabel != '' :\n",
    "        ax.set_xlabel(ylabel)\n",
    "\n",
    "    if xticks != [] :\n",
    "        ax.set_xticks(x, xticks)\n",
    "        \n",
    "    if yticks != [] :\n",
    "        ax.set_yticks(x, yticks)\n",
    "     \n",
    "    plt.legend()\n",
    "    plt.show()"
   ]
  },
  {
   "cell_type": "code",
   "execution_count": 808,
   "metadata": {},
   "outputs": [
    {
     "data": {
      "image/png": "[encoded data removed]",
      "text/plain": [
       "<Figure size 1000x800 with 1 Axes>"
      ]
     },
     "metadata": {},
     "output_type": "display_data"
    }
   ],
   "source": [
    "# Female and male survival rate comparison\n",
    "\n",
    "def plot_female_male_survival() :\n",
    "    female = df_preprocessed.loc[df_preprocessed['sex_female'] == 1]\n",
    "    male = df_preprocessed.loc[df_preprocessed['sex_male'] == 1]\n",
    "\n",
    "    female_survivor_count = len(female.loc[female['survived'] == 1])\n",
    "    female_deceased_count = len(female.loc[female['survived'] == 0])\n",
    "    \n",
    "    male_survivor_count = len(male.loc[male['survived'] == 1])\n",
    "    male_deceased_count = len(male.loc[male['survived'] == 0])\n",
    "\n",
    "    x = [\n",
    "        (1),\n",
    "        (10)\n",
    "    ]\n",
    "\n",
    "    y1 = [\n",
    "        (female_survivor_count / (len(female))),\n",
    "        (male_survivor_count / (len(male)))\n",
    "    ]\n",
    "    \n",
    "    y2 = [\n",
    "        (female_deceased_count / (len(female))),\n",
    "        (male_deceased_count / (len(male))),\n",
    "    ]\n",
    "    \n",
    "    plot_stacked_bar(x, y1, y2, title='Female and male survival rate', y1label='Survived', y2label='Deceased', xaxis_visibility=True, xticks=['Female', 'Male'])\n",
    "      \n",
    "plot_female_male_survival()"
   ]
  },
  {
   "cell_type": "code",
   "execution_count": 809,
   "metadata": {},
   "outputs": [
    {
     "data": {
      "image/png": "[encoded data removed]",
      "text/plain": [
       "<Figure size 1000x800 with 1 Axes>"
      ]
     },
     "metadata": {},
     "output_type": "display_data"
    }
   ],
   "source": [
    "# Age distribution among survivors and deceased\n",
    "\n",
    "def plot_age_range_survival() :\n",
    "    age_range = 10\n",
    "\n",
    "    using_percentage = True\n",
    "\n",
    "    x = []\n",
    "    y1 = []\n",
    "    y2 = []\n",
    "\n",
    "    age_survived = df_preprocessed[['age', 'survived']].sort_values(by='age')\n",
    "    step = 1\n",
    "    interval = [0]\n",
    "    while len(interval) > 0 :        \n",
    "        interval = age_survived.loc[(age_survived['age'] > age_range * (step - 1)) & (age_survived['age'] <= age_range * step)]\n",
    "        \n",
    "        if len(interval) == 0 : \n",
    "            break\n",
    "        \n",
    "        total = len(interval)\n",
    "        survivors = len(interval.loc[interval['survived'] == 1])\n",
    "        deceased = len(interval.loc[interval['survived'] == 0])\n",
    "        \n",
    "        x.append(age_range * step)\n",
    "        y1.append(survivors / total if using_percentage else survivors)\n",
    "        y2.append(deceased / total if using_percentage else deceased)\n",
    "        \n",
    "        step += 1\n",
    "\n",
    "    plot_stacked_bar(x, y1, y2, y1label='Survived', y2label='Deceased', title='Survival rate by age range ', using_percentage=using_percentage, major_locator_range=age_range, figsize=(10, 8))\n",
    "    \n",
    "plot_age_range_survival()"
   ]
  },
  {
   "cell_type": "markdown",
   "metadata": {},
   "source": [
    "# Models"
   ]
  },
  {
   "cell_type": "markdown",
   "metadata": {},
   "source": [
    "## Training"
   ]
  },
  {
   "cell_type": "code",
   "execution_count": 810,
   "metadata": {},
   "outputs": [],
   "source": [
    "def fit_predict_model(X_train, y_train, model, folds = 3, model_name = '', output_cross_val_scores = True) :\n",
    "    model.fit(X_train, y_train)\n",
    "    scores = cross_val_score(model, X_train, y_train, cv=folds)\n",
    "    \n",
    "    if output_cross_val_scores :\n",
    "        if model_name != '' :\n",
    "            print(model_name)\n",
    "        \n",
    "        print(\"Scores: {}\".format(scores))\n",
    "        print(\"Mean: {}\".format(scores.mean()))\n",
    "        print(\"Std: {}\\n\".format(scores.std()))"
   ]
  },
  {
   "cell_type": "code",
   "execution_count": 811,
   "metadata": {},
   "outputs": [
    {
     "name": "stdout",
     "output_type": "stream",
     "text": [
      "KNN\n",
      "Scores: [0.75418994 0.76966292 0.83707865 0.80898876 0.83707865]\n",
      "Mean: 0.8013997865796247\n",
      "Std: 0.034174707746765134\n",
      "\n"
     ]
    }
   ],
   "source": [
    "# KNN\n",
    "\n",
    "knn = KNeighborsClassifier(n_neighbors=3, metric='manhattan')\n",
    "fit_predict_model(X_train, y_train, knn, folds=5, model_name='KNN')"
   ]
  },
  {
   "cell_type": "code",
   "execution_count": 816,
   "metadata": {},
   "outputs": [
    {
     "name": "stdout",
     "output_type": "stream",
     "text": [
      "Random Forest\n",
      "Scores: [0.80446927 0.80337079 0.88764045 0.80898876 0.85393258]\n",
      "Mean: 0.831680371602536\n",
      "Std: 0.0337149129850529\n",
      "\n"
     ]
    }
   ],
   "source": [
    "# Random Forest\n",
    "\n",
    "rf = RandomForestClassifier(n_estimators=1442, min_samples_split=2, min_samples_leaf=4, max_features='sqrt', max_depth=None, bootstrap=False)\n",
    "fit_predict_model(X_train, y_train, rf, folds=5, model_name='Random Forest')"
   ]
  },
  {
   "cell_type": "code",
   "execution_count": 813,
   "metadata": {},
   "outputs": [
    {
     "name": "stdout",
     "output_type": "stream",
     "text": [
      "Decision Tree\n",
      "Scores: [0.77094972 0.78089888 0.81460674 0.73595506 0.8258427 ]\n",
      "Mean: 0.7856506182913816\n",
      "Std: 0.03213161860855321\n",
      "\n"
     ]
    }
   ],
   "source": [
    "# Decision Tree\n",
    "\n",
    "decision_tree = DecisionTreeClassifier()\n",
    "fit_predict_model(X_train, y_train, decision_tree, folds=5, model_name='Decision Tree')"
   ]
  },
  {
   "cell_type": "code",
   "execution_count": 814,
   "metadata": {},
   "outputs": [
    {
     "name": "stdout",
     "output_type": "stream",
     "text": [
      "Linear SVC\n",
      "Scores: [0.80446927 0.80337079 0.78651685 0.75280899 0.78651685]\n",
      "Mean: 0.7867365513778168\n",
      "Std: 0.018667207932566335\n",
      "\n"
     ]
    },
    {
     "name": "stderr",
     "output_type": "stream",
     "text": [
      "c:\\Users\\Lucas\\miniconda3\\envs\\tf\\lib\\site-packages\\sklearn\\svm\\_base.py:1242: ConvergenceWarning: Liblinear failed to converge, increase the number of iterations.\n",
      "  warnings.warn(\n"
     ]
    }
   ],
   "source": [
    "# Linear SVC\n",
    "\n",
    "X_train_custom, y_train_custom = get_training_features_labels()\n",
    "preprocessor = get_preprocessor(scaler='minmax')\n",
    "X_train_custom = preprocessor.fit_transform(X_train_custom, y_train)\n",
    "\n",
    "linear_svc = LinearSVC(C=0.2, loss='hinge', max_iter=20000, dual='auto')\n",
    "fit_predict_model(X_train_custom, y_train, linear_svc, folds=5, model_name='Linear SVC')"
   ]
  }
 ],
 "metadata": {
  "kernelspec": {
   "display_name": "tf",
   "language": "python",
   "name": "python3"
  },
  "language_info": {
   "codemirror_mode": {
    "name": "ipython",
    "version": 3
   },
   "file_extension": ".py",
   "mimetype": "text/x-python",
   "name": "python",
   "nbconvert_exporter": "python",
   "pygments_lexer": "ipython3",
   "version": "3.9.17"
  },
  "orig_nbformat": 4
 },
 "nbformat": 4,
 "nbformat_minor": 2
}
